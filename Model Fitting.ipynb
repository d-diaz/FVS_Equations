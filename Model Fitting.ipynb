{
 "cells": [
  {
   "cell_type": "code",
   "execution_count": 2,
   "metadata": {},
   "outputs": [],
   "source": [
    "import pandas as pd, numpy as np\n",
    "from matplotlib import pyplot as plt\n",
    "import seaborn as sns\n",
    "import statsmodels.api as sm\n",
    "import statsmodels.formula.api as smf\n",
    "from statsmodels.graphics.api import abline_plot\n",
    "from sklearn.ensemble import RandomForestRegressor\n",
    "%matplotlib inline"
   ]
  },
  {
   "cell_type": "code",
   "execution_count": 42,
   "metadata": {
    "collapsed": true
   },
   "outputs": [],
   "source": [
    "data = pd.read_csv('DF_for_fitting.csv')"
   ]
  },
  {
   "cell_type": "code",
   "execution_count": 43,
   "metadata": {},
   "outputs": [
    {
     "data": {
      "text/html": [
       "<div>\n",
       "<style>\n",
       "    .dataframe thead tr:only-child th {\n",
       "        text-align: right;\n",
       "    }\n",
       "\n",
       "    .dataframe thead th {\n",
       "        text-align: left;\n",
       "    }\n",
       "\n",
       "    .dataframe tbody tr th {\n",
       "        vertical-align: top;\n",
       "    }\n",
       "</style>\n",
       "<table border=\"1\" class=\"dataframe\">\n",
       "  <thead>\n",
       "    <tr style=\"text-align: right;\">\n",
       "      <th></th>\n",
       "      <th>plot_id</th>\n",
       "      <th>subplot_id</th>\n",
       "      <th>measyear</th>\n",
       "      <th>tree_cn</th>\n",
       "      <th>tree_id</th>\n",
       "      <th>dbh</th>\n",
       "      <th>dg_in_x</th>\n",
       "      <th>diamincr_mm</th>\n",
       "      <th>MAT</th>\n",
       "      <th>MAP</th>\n",
       "      <th>slope</th>\n",
       "      <th>aspect</th>\n",
       "      <th>elev</th>\n",
       "      <th>dg_in_y</th>\n",
       "      <th>bal</th>\n",
       "      <th>cr</th>\n",
       "      <th>ba</th>\n",
       "    </tr>\n",
       "  </thead>\n",
       "  <tbody>\n",
       "    <tr>\n",
       "      <th>0</th>\n",
       "      <td>5931423010901</td>\n",
       "      <td>5931430010901</td>\n",
       "      <td>2004</td>\n",
       "      <td>5931443010901</td>\n",
       "      <td>101</td>\n",
       "      <td>44.5</td>\n",
       "      <td>1.2</td>\n",
       "      <td>30.48</td>\n",
       "      <td>5.550000</td>\n",
       "      <td>2486.500000</td>\n",
       "      <td>95.0</td>\n",
       "      <td>265.0</td>\n",
       "      <td>3700</td>\n",
       "      <td>0.60</td>\n",
       "      <td>0.0</td>\n",
       "      <td>0.45</td>\n",
       "      <td>61.933283</td>\n",
       "    </tr>\n",
       "    <tr>\n",
       "      <th>1</th>\n",
       "      <td>5931423010901</td>\n",
       "      <td>5931432010901</td>\n",
       "      <td>2004</td>\n",
       "      <td>5931489010901</td>\n",
       "      <td>124</td>\n",
       "      <td>29.2</td>\n",
       "      <td>1.1</td>\n",
       "      <td>27.94</td>\n",
       "      <td>5.550000</td>\n",
       "      <td>2486.500000</td>\n",
       "      <td>95.0</td>\n",
       "      <td>320.0</td>\n",
       "      <td>3700</td>\n",
       "      <td>0.55</td>\n",
       "      <td>22.0</td>\n",
       "      <td>0.40</td>\n",
       "      <td>114.766495</td>\n",
       "    </tr>\n",
       "    <tr>\n",
       "      <th>2</th>\n",
       "      <td>5936567010901</td>\n",
       "      <td>5936575010901</td>\n",
       "      <td>2004</td>\n",
       "      <td>5936598010901</td>\n",
       "      <td>102</td>\n",
       "      <td>21.0</td>\n",
       "      <td>1.3</td>\n",
       "      <td>33.02</td>\n",
       "      <td>5.972727</td>\n",
       "      <td>716.454545</td>\n",
       "      <td>45.0</td>\n",
       "      <td>159.0</td>\n",
       "      <td>5900</td>\n",
       "      <td>0.65</td>\n",
       "      <td>0.0</td>\n",
       "      <td>0.90</td>\n",
       "      <td>25.491535</td>\n",
       "    </tr>\n",
       "    <tr>\n",
       "      <th>3</th>\n",
       "      <td>5936567010901</td>\n",
       "      <td>5936577010901</td>\n",
       "      <td>2004</td>\n",
       "      <td>5936610010901</td>\n",
       "      <td>112</td>\n",
       "      <td>20.0</td>\n",
       "      <td>2.4</td>\n",
       "      <td>60.96</td>\n",
       "      <td>5.972727</td>\n",
       "      <td>716.454545</td>\n",
       "      <td>49.0</td>\n",
       "      <td>288.0</td>\n",
       "      <td>5900</td>\n",
       "      <td>1.20</td>\n",
       "      <td>15.0</td>\n",
       "      <td>0.80</td>\n",
       "      <td>33.913766</td>\n",
       "    </tr>\n",
       "    <tr>\n",
       "      <th>4</th>\n",
       "      <td>5936567010901</td>\n",
       "      <td>5936578010901</td>\n",
       "      <td>2004</td>\n",
       "      <td>5936618010901</td>\n",
       "      <td>116</td>\n",
       "      <td>24.5</td>\n",
       "      <td>0.6</td>\n",
       "      <td>15.24</td>\n",
       "      <td>5.972727</td>\n",
       "      <td>716.454545</td>\n",
       "      <td>45.0</td>\n",
       "      <td>140.0</td>\n",
       "      <td>5900</td>\n",
       "      <td>0.30</td>\n",
       "      <td>0.0</td>\n",
       "      <td>0.90</td>\n",
       "      <td>5.758093</td>\n",
       "    </tr>\n",
       "  </tbody>\n",
       "</table>\n",
       "</div>"
      ],
      "text/plain": [
       "         plot_id     subplot_id  measyear        tree_cn  tree_id   dbh  \\\n",
       "0  5931423010901  5931430010901      2004  5931443010901      101  44.5   \n",
       "1  5931423010901  5931432010901      2004  5931489010901      124  29.2   \n",
       "2  5936567010901  5936575010901      2004  5936598010901      102  21.0   \n",
       "3  5936567010901  5936577010901      2004  5936610010901      112  20.0   \n",
       "4  5936567010901  5936578010901      2004  5936618010901      116  24.5   \n",
       "\n",
       "   dg_in_x  diamincr_mm       MAT          MAP  slope  aspect  elev  dg_in_y  \\\n",
       "0      1.2        30.48  5.550000  2486.500000   95.0   265.0  3700     0.60   \n",
       "1      1.1        27.94  5.550000  2486.500000   95.0   320.0  3700     0.55   \n",
       "2      1.3        33.02  5.972727   716.454545   45.0   159.0  5900     0.65   \n",
       "3      2.4        60.96  5.972727   716.454545   49.0   288.0  5900     1.20   \n",
       "4      0.6        15.24  5.972727   716.454545   45.0   140.0  5900     0.30   \n",
       "\n",
       "    bal    cr          ba  \n",
       "0   0.0  0.45   61.933283  \n",
       "1  22.0  0.40  114.766495  \n",
       "2   0.0  0.90   25.491535  \n",
       "3  15.0  0.80   33.913766  \n",
       "4   0.0  0.90    5.758093  "
      ]
     },
     "execution_count": 43,
     "metadata": {},
     "output_type": "execute_result"
    }
   ],
   "source": [
    "data.head()"
   ]
  },
  {
   "cell_type": "code",
   "execution_count": 44,
   "metadata": {
    "collapsed": true
   },
   "outputs": [],
   "source": [
    "data['ASPECT'] = data.aspect * np.pi/180 # convert to radians\n",
    "data['SLOPE'] = data.slope/100. # convert to percent"
   ]
  },
  {
   "cell_type": "code",
   "execution_count": 45,
   "metadata": {},
   "outputs": [],
   "source": [
    "# for random forests, don't make any data transformations\n",
    "DBH = data.dbh\n",
    "BAL = data.bal\n",
    "SLOPE = data.SLOPE\n",
    "ASPECT = data.ASPECT\n",
    "ELEV = data.elev\n",
    "CR = data.cr\n",
    "BA = data.ba\n",
    "MAT = data.MAT\n",
    "MAP = data.MAP\n",
    "DDS = ((data.dg_in_x)**2)"
   ]
  },
  {
   "cell_type": "code",
   "execution_count": 11,
   "metadata": {},
   "outputs": [
    {
     "data": {
      "text/plain": [
       "RandomForestRegressor(bootstrap=True, criterion='mse', max_depth=12,\n",
       "           max_features='auto', max_leaf_nodes=None,\n",
       "           min_impurity_decrease=0.0, min_impurity_split=None,\n",
       "           min_samples_leaf=1, min_samples_split=2,\n",
       "           min_weight_fraction_leaf=0.0, n_estimators=1000, n_jobs=1,\n",
       "           oob_score=True, random_state=None, verbose=0, warm_start=False)"
      ]
     },
     "execution_count": 11,
     "metadata": {},
     "output_type": "execute_result"
    }
   ],
   "source": [
    "# run a Random Forests regression model, allow 12 splits in each tree\n",
    "regr = RandomForestRegressor(n_estimators=1000, max_depth=12, oob_score=True)\n",
    "X_cols = ['dbh', 'bal', 'SLOPE', 'ASPECT', 'elev', 'cr', 'ba', 'MAT', 'MAP']\n",
    "regr.fit(X=data[X_cols], y=(data.dg_in_x)**2)"
   ]
  },
  {
   "cell_type": "code",
   "execution_count": 12,
   "metadata": {},
   "outputs": [
    {
     "data": {
      "text/plain": [
       "0.49469881430161733"
      ]
     },
     "execution_count": 12,
     "metadata": {},
     "output_type": "execute_result"
    }
   ],
   "source": [
    "regr.oob_score_ # Random Forests R2 value on out-of-bag data"
   ]
  },
  {
   "cell_type": "code",
   "execution_count": 46,
   "metadata": {},
   "outputs": [],
   "source": [
    "# Make some data transformations to fit GLM\n",
    "LOGDBH = np.log(DBH).rename('LOGDBH')\n",
    "DBHSQ = (DBH**2).rename('DBHSQ')\n",
    "BALDBH = (BAL/np.log(DBH+1)).rename('BALDBH')\n",
    "SLOPECOSASP = (SLOPE * np.cos(ASPECT)).rename('SLOPECOSASP')\n",
    "SLOPESINASP = (SLOPE * np.sin(ASPECT)).rename('SLOPESINASP')\n",
    "SLOPESQ = (SLOPE**2).rename('SLOPESQ')\n",
    "LOGMAT10 = (np.log(MAT+10)).rename('LOGMAT10')\n",
    "LOGMAP = (np.log(MAP)).rename('LOGMAP')\n",
    "DBHDIFF = data.dg_in_x.rename('DBHDIFF')\n",
    "cols = [DDS.rename('DDS'),DBHDIFF,LOGDBH,DBHSQ,BALDBH,SLOPECOSASP,SLOPESINASP,SLOPE,SLOPESQ,ELEV,CR,BA,LOGMAT10,LOGMAP]\n",
    "data = pd.concat(cols, axis=1)"
   ]
  },
  {
   "cell_type": "code",
   "execution_count": 23,
   "metadata": {},
   "outputs": [
    {
     "data": {
      "text/plain": [
       "<matplotlib.axes._subplots.AxesSubplot at 0x1c4b947128>"
      ]
     },
     "execution_count": 23,
     "metadata": {},
     "output_type": "execute_result"
    },
    {
     "data": {
      "image/png": "[encoded data removed]",
      "text/plain": [
       "<matplotlib.figure.Figure at 0x1c4b8a3c88>"
      ]
     },
     "metadata": {},
     "output_type": "display_data"
    }
   ],
   "source": [
    "DDS.hist(bins=50)"
   ]
  },
  {
   "cell_type": "code",
   "execution_count": 24,
   "metadata": {},
   "outputs": [
    {
     "data": {
      "text/plain": [
       "<matplotlib.axes._subplots.AxesSubplot at 0x1c480d8dd8>"
      ]
     },
     "execution_count": 24,
     "metadata": {},
     "output_type": "execute_result"
    },
    {
     "data": {
      "image/png": "[encoded data removed]",
      "text/plain": [
       "<matplotlib.figure.Figure at 0x1c47fd5860>"
      ]
     },
     "metadata": {},
     "output_type": "display_data"
    }
   ],
   "source": [
    "np.log(DDS).hist(bins=50)"
   ]
  },
  {
   "cell_type": "code",
   "execution_count": 25,
   "metadata": {},
   "outputs": [
    {
     "data": {
      "text/plain": [
       "<matplotlib.axes._subplots.AxesSubplot at 0x1c42daec88>"
      ]
     },
     "execution_count": 25,
     "metadata": {},
     "output_type": "execute_result"
    },
    {
     "data": {
      "image/png": "[encoded data removed]",
      "text/plain": [
       "<matplotlib.figure.Figure at 0x1c47f61550>"
      ]
     },
     "metadata": {},
     "output_type": "display_data"
    }
   ],
   "source": [
    "(np.sqrt(DDS)/2).hist(bins=50)"
   ]
  },
  {
   "cell_type": "code",
   "execution_count": 26,
   "metadata": {},
   "outputs": [
    {
     "data": {
      "text/html": [
       "<div>\n",
       "<style>\n",
       "    .dataframe thead tr:only-child th {\n",
       "        text-align: right;\n",
       "    }\n",
       "\n",
       "    .dataframe thead th {\n",
       "        text-align: left;\n",
       "    }\n",
       "\n",
       "    .dataframe tbody tr th {\n",
       "        vertical-align: top;\n",
       "    }\n",
       "</style>\n",
       "<table border=\"1\" class=\"dataframe\">\n",
       "  <thead>\n",
       "    <tr style=\"text-align: right;\">\n",
       "      <th></th>\n",
       "      <th>DDS</th>\n",
       "      <th>LOGDBH</th>\n",
       "      <th>DBHSQ</th>\n",
       "      <th>BALDBH</th>\n",
       "      <th>SLOPECOSASP</th>\n",
       "      <th>SLOPESINASP</th>\n",
       "      <th>SLOPE</th>\n",
       "      <th>SLOPESQ</th>\n",
       "      <th>elev</th>\n",
       "      <th>cr</th>\n",
       "      <th>ba</th>\n",
       "      <th>LOGMAT10</th>\n",
       "      <th>LOGMAP</th>\n",
       "    </tr>\n",
       "  </thead>\n",
       "  <tbody>\n",
       "    <tr>\n",
       "      <th>0</th>\n",
       "      <td>1.44</td>\n",
       "      <td>3.795489</td>\n",
       "      <td>1980.25</td>\n",
       "      <td>0.000000</td>\n",
       "      <td>-0.082798</td>\n",
       "      <td>-0.946385</td>\n",
       "      <td>0.95</td>\n",
       "      <td>0.9025</td>\n",
       "      <td>3700</td>\n",
       "      <td>0.45</td>\n",
       "      <td>61.933283</td>\n",
       "      <td>2.744061</td>\n",
       "      <td>7.818631</td>\n",
       "    </tr>\n",
       "    <tr>\n",
       "      <th>1</th>\n",
       "      <td>1.21</td>\n",
       "      <td>3.374169</td>\n",
       "      <td>852.64</td>\n",
       "      <td>6.455699</td>\n",
       "      <td>0.727742</td>\n",
       "      <td>-0.610648</td>\n",
       "      <td>0.95</td>\n",
       "      <td>0.9025</td>\n",
       "      <td>3700</td>\n",
       "      <td>0.40</td>\n",
       "      <td>114.766495</td>\n",
       "      <td>2.744061</td>\n",
       "      <td>7.818631</td>\n",
       "    </tr>\n",
       "    <tr>\n",
       "      <th>2</th>\n",
       "      <td>1.69</td>\n",
       "      <td>3.044522</td>\n",
       "      <td>441.00</td>\n",
       "      <td>0.000000</td>\n",
       "      <td>-0.420111</td>\n",
       "      <td>0.161266</td>\n",
       "      <td>0.45</td>\n",
       "      <td>0.2025</td>\n",
       "      <td>5900</td>\n",
       "      <td>0.90</td>\n",
       "      <td>25.491535</td>\n",
       "      <td>2.770883</td>\n",
       "      <td>6.574315</td>\n",
       "    </tr>\n",
       "    <tr>\n",
       "      <th>3</th>\n",
       "      <td>5.76</td>\n",
       "      <td>2.995732</td>\n",
       "      <td>400.00</td>\n",
       "      <td>4.926881</td>\n",
       "      <td>0.151418</td>\n",
       "      <td>-0.466018</td>\n",
       "      <td>0.49</td>\n",
       "      <td>0.2401</td>\n",
       "      <td>5900</td>\n",
       "      <td>0.80</td>\n",
       "      <td>33.913766</td>\n",
       "      <td>2.770883</td>\n",
       "      <td>6.574315</td>\n",
       "    </tr>\n",
       "    <tr>\n",
       "      <th>4</th>\n",
       "      <td>0.36</td>\n",
       "      <td>3.198673</td>\n",
       "      <td>600.25</td>\n",
       "      <td>0.000000</td>\n",
       "      <td>-0.344720</td>\n",
       "      <td>0.289254</td>\n",
       "      <td>0.45</td>\n",
       "      <td>0.2025</td>\n",
       "      <td>5900</td>\n",
       "      <td>0.90</td>\n",
       "      <td>5.758093</td>\n",
       "      <td>2.770883</td>\n",
       "      <td>6.574315</td>\n",
       "    </tr>\n",
       "  </tbody>\n",
       "</table>\n",
       "</div>"
      ],
      "text/plain": [
       "    DDS    LOGDBH    DBHSQ    BALDBH  SLOPECOSASP  SLOPESINASP  SLOPE  \\\n",
       "0  1.44  3.795489  1980.25  0.000000    -0.082798    -0.946385   0.95   \n",
       "1  1.21  3.374169   852.64  6.455699     0.727742    -0.610648   0.95   \n",
       "2  1.69  3.044522   441.00  0.000000    -0.420111     0.161266   0.45   \n",
       "3  5.76  2.995732   400.00  4.926881     0.151418    -0.466018   0.49   \n",
       "4  0.36  3.198673   600.25  0.000000    -0.344720     0.289254   0.45   \n",
       "\n",
       "   SLOPESQ  elev    cr          ba  LOGMAT10    LOGMAP  \n",
       "0   0.9025  3700  0.45   61.933283  2.744061  7.818631  \n",
       "1   0.9025  3700  0.40  114.766495  2.744061  7.818631  \n",
       "2   0.2025  5900  0.90   25.491535  2.770883  6.574315  \n",
       "3   0.2401  5900  0.80   33.913766  2.770883  6.574315  \n",
       "4   0.2025  5900  0.90    5.758093  2.770883  6.574315  "
      ]
     },
     "execution_count": 26,
     "metadata": {},
     "output_type": "execute_result"
    }
   ],
   "source": [
    "data.head()"
   ]
  },
  {
   "cell_type": "code",
   "execution_count": 27,
   "metadata": {},
   "outputs": [
    {
     "data": {
      "text/html": [
       "<table class=\"simpletable\">\n",
       "<caption>Generalized Linear Model Regression Results</caption>\n",
       "<tr>\n",
       "  <th>Dep. Variable:</th>         <td>DDS</td>       <th>  No. Observations:  </th>    <td> 36415</td>   \n",
       "</tr>\n",
       "<tr>\n",
       "  <th>Model:</th>                 <td>GLM</td>       <th>  Df Residuals:      </th>    <td> 36402</td>   \n",
       "</tr>\n",
       "<tr>\n",
       "  <th>Model Family:</th>       <td>Gaussian</td>     <th>  Df Model:          </th>    <td>    12</td>   \n",
       "</tr>\n",
       "<tr>\n",
       "  <th>Link Function:</th>         <td>log</td>       <th>  Scale:             </th> <td>37.712482838</td>\n",
       "</tr>\n",
       "<tr>\n",
       "  <th>Method:</th>               <td>IRLS</td>       <th>  Log-Likelihood:    </th>  <td>-1.1776e+05</td>\n",
       "</tr>\n",
       "<tr>\n",
       "  <th>Date:</th>           <td>Tue, 12 Dec 2017</td> <th>  Deviance:          </th>  <td>1.3728e+06</td> \n",
       "</tr>\n",
       "<tr>\n",
       "  <th>Time:</th>               <td>00:05:04</td>     <th>  Pearson chi2:      </th>   <td>1.37e+06</td>  \n",
       "</tr>\n",
       "<tr>\n",
       "  <th>No. Iterations:</th>        <td>16</td>        <th>                     </th>       <td> </td>     \n",
       "</tr>\n",
       "</table>\n",
       "<table class=\"simpletable\">\n",
       "<tr>\n",
       "       <td></td>          <th>coef</th>     <th>std err</th>      <th>z</th>      <th>P>|z|</th>  <th>[0.025</th>    <th>0.975]</th>  \n",
       "</tr>\n",
       "<tr>\n",
       "  <th>Intercept</th>   <td>   -4.1931</td> <td>    0.200</td> <td>  -20.931</td> <td> 0.000</td> <td>   -4.586</td> <td>   -3.800</td>\n",
       "</tr>\n",
       "<tr>\n",
       "  <th>LOGDBH</th>      <td>    0.4655</td> <td>    0.022</td> <td>   21.537</td> <td> 0.000</td> <td>    0.423</td> <td>    0.508</td>\n",
       "</tr>\n",
       "<tr>\n",
       "  <th>DBHSQ</th>       <td>   -0.0013</td> <td>  3.9e-05</td> <td>  -33.874</td> <td> 0.000</td> <td>   -0.001</td> <td>   -0.001</td>\n",
       "</tr>\n",
       "<tr>\n",
       "  <th>BALDBH</th>      <td>   -0.0473</td> <td>    0.001</td> <td>  -36.910</td> <td> 0.000</td> <td>   -0.050</td> <td>   -0.045</td>\n",
       "</tr>\n",
       "<tr>\n",
       "  <th>SLOPECOSASP</th> <td>   -0.0207</td> <td>    0.016</td> <td>   -1.296</td> <td> 0.195</td> <td>   -0.052</td> <td>    0.011</td>\n",
       "</tr>\n",
       "<tr>\n",
       "  <th>SLOPESINASP</th> <td>   -0.0914</td> <td>    0.016</td> <td>   -5.775</td> <td> 0.000</td> <td>   -0.122</td> <td>   -0.060</td>\n",
       "</tr>\n",
       "<tr>\n",
       "  <th>SLOPE</th>       <td>    0.4155</td> <td>    0.062</td> <td>    6.714</td> <td> 0.000</td> <td>    0.294</td> <td>    0.537</td>\n",
       "</tr>\n",
       "<tr>\n",
       "  <th>SLOPESQ</th>     <td>   -1.0615</td> <td>    0.076</td> <td>  -13.917</td> <td> 0.000</td> <td>   -1.211</td> <td>   -0.912</td>\n",
       "</tr>\n",
       "<tr>\n",
       "  <th>elev</th>        <td>   -0.0002</td> <td> 4.49e-06</td> <td>  -51.461</td> <td> 0.000</td> <td>   -0.000</td> <td>   -0.000</td>\n",
       "</tr>\n",
       "<tr>\n",
       "  <th>cr</th>          <td>    2.0413</td> <td>    0.028</td> <td>   72.221</td> <td> 0.000</td> <td>    1.986</td> <td>    2.097</td>\n",
       "</tr>\n",
       "<tr>\n",
       "  <th>ba</th>          <td>   -0.0013</td> <td>    0.000</td> <td>   -3.787</td> <td> 0.000</td> <td>   -0.002</td> <td>   -0.001</td>\n",
       "</tr>\n",
       "<tr>\n",
       "  <th>LOGMAT10</th>    <td>    0.5542</td> <td>    0.055</td> <td>    9.990</td> <td> 0.000</td> <td>    0.446</td> <td>    0.663</td>\n",
       "</tr>\n",
       "<tr>\n",
       "  <th>LOGMAP</th>      <td>    0.4593</td> <td>    0.010</td> <td>   44.871</td> <td> 0.000</td> <td>    0.439</td> <td>    0.479</td>\n",
       "</tr>\n",
       "</table>"
      ],
      "text/plain": [
       "<class 'statsmodels.iolib.summary.Summary'>\n",
       "\"\"\"\n",
       "                 Generalized Linear Model Regression Results                  \n",
       "==============================================================================\n",
       "Dep. Variable:                    DDS   No. Observations:                36415\n",
       "Model:                            GLM   Df Residuals:                    36402\n",
       "Model Family:                Gaussian   Df Model:                           12\n",
       "Link Function:                    log   Scale:                    37.712482838\n",
       "Method:                          IRLS   Log-Likelihood:            -1.1776e+05\n",
       "Date:                Tue, 12 Dec 2017   Deviance:                   1.3728e+06\n",
       "Time:                        00:05:04   Pearson chi2:                 1.37e+06\n",
       "No. Iterations:                    16                                         \n",
       "===============================================================================\n",
       "                  coef    std err          z      P>|z|      [0.025      0.975]\n",
       "-------------------------------------------------------------------------------\n",
       "Intercept      -4.1931      0.200    -20.931      0.000      -4.586      -3.800\n",
       "LOGDBH          0.4655      0.022     21.537      0.000       0.423       0.508\n",
       "DBHSQ          -0.0013    3.9e-05    -33.874      0.000      -0.001      -0.001\n",
       "BALDBH         -0.0473      0.001    -36.910      0.000      -0.050      -0.045\n",
       "SLOPECOSASP    -0.0207      0.016     -1.296      0.195      -0.052       0.011\n",
       "SLOPESINASP    -0.0914      0.016     -5.775      0.000      -0.122      -0.060\n",
       "SLOPE           0.4155      0.062      6.714      0.000       0.294       0.537\n",
       "SLOPESQ        -1.0615      0.076    -13.917      0.000      -1.211      -0.912\n",
       "elev           -0.0002   4.49e-06    -51.461      0.000      -0.000      -0.000\n",
       "cr              2.0413      0.028     72.221      0.000       1.986       2.097\n",
       "ba             -0.0013      0.000     -3.787      0.000      -0.002      -0.001\n",
       "LOGMAT10        0.5542      0.055      9.990      0.000       0.446       0.663\n",
       "LOGMAP          0.4593      0.010     44.871      0.000       0.439       0.479\n",
       "===============================================================================\n",
       "\"\"\""
      ]
     },
     "execution_count": 27,
     "metadata": {},
     "output_type": "execute_result"
    }
   ],
   "source": [
    "formula = 'DDS ~ LOGDBH + DBHSQ + BALDBH + SLOPECOSASP + SLOPESINASP + SLOPE + SLOPESQ + elev + cr + ba + LOGMAT10 + LOGMAP'\n",
    "base_model = smf.glm(formula=formula, data=data, family=sm.families.Gaussian(sm.families.links.log)).fit()\n",
    "base_model.summary()"
   ]
  },
  {
   "cell_type": "code",
   "execution_count": 29,
   "metadata": {},
   "outputs": [
    {
     "data": {
      "text/html": [
       "<table class=\"simpletable\">\n",
       "<caption>Generalized Linear Model Regression Results</caption>\n",
       "<tr>\n",
       "  <th>Dep. Variable:</th>         <td>DDS</td>       <th>  No. Observations:  </th>    <td> 36415</td>    \n",
       "</tr>\n",
       "<tr>\n",
       "  <th>Model:</th>                 <td>GLM</td>       <th>  Df Residuals:      </th>    <td> 36402</td>    \n",
       "</tr>\n",
       "<tr>\n",
       "  <th>Model Family:</th>         <td>Gamma</td>      <th>  Df Model:          </th>    <td>    12</td>    \n",
       "</tr>\n",
       "<tr>\n",
       "  <th>Link Function:</th>         <td>log</td>       <th>  Scale:             </th> <td>3.98019714167</td>\n",
       "</tr>\n",
       "<tr>\n",
       "  <th>Method:</th>               <td>IRLS</td>       <th>  Log-Likelihood:    </th>   <td> -93222.</td>   \n",
       "</tr>\n",
       "<tr>\n",
       "  <th>Date:</th>           <td>Tue, 12 Dec 2017</td> <th>  Deviance:          </th>   <td>  46949.</td>   \n",
       "</tr>\n",
       "<tr>\n",
       "  <th>Time:</th>               <td>00:05:33</td>     <th>  Pearson chi2:      </th>   <td>1.45e+05</td>   \n",
       "</tr>\n",
       "<tr>\n",
       "  <th>No. Iterations:</th>        <td>100</td>       <th>                     </th>       <td> </td>      \n",
       "</tr>\n",
       "</table>\n",
       "<table class=\"simpletable\">\n",
       "<tr>\n",
       "       <td></td>          <th>coef</th>     <th>std err</th>      <th>z</th>      <th>P>|z|</th>  <th>[0.025</th>    <th>0.975]</th>  \n",
       "</tr>\n",
       "<tr>\n",
       "  <th>Intercept</th>   <td>   -7.2253</td> <td>    0.352</td> <td>  -20.554</td> <td> 0.000</td> <td>   -7.914</td> <td>   -6.536</td>\n",
       "</tr>\n",
       "<tr>\n",
       "  <th>LOGDBH</th>      <td>   -0.0390</td> <td>    0.034</td> <td>   -1.145</td> <td> 0.252</td> <td>   -0.106</td> <td>    0.028</td>\n",
       "</tr>\n",
       "<tr>\n",
       "  <th>DBHSQ</th>       <td>   -0.0005</td> <td> 2.82e-05</td> <td>  -16.297</td> <td> 0.000</td> <td>   -0.001</td> <td>   -0.000</td>\n",
       "</tr>\n",
       "<tr>\n",
       "  <th>BALDBH</th>      <td>   -0.0519</td> <td>    0.002</td> <td>  -29.068</td> <td> 0.000</td> <td>   -0.055</td> <td>   -0.048</td>\n",
       "</tr>\n",
       "<tr>\n",
       "  <th>SLOPECOSASP</th> <td>   -0.0594</td> <td>    0.033</td> <td>   -1.792</td> <td> 0.073</td> <td>   -0.124</td> <td>    0.006</td>\n",
       "</tr>\n",
       "<tr>\n",
       "  <th>SLOPESINASP</th> <td>   -0.0278</td> <td>    0.032</td> <td>   -0.865</td> <td> 0.387</td> <td>   -0.091</td> <td>    0.035</td>\n",
       "</tr>\n",
       "<tr>\n",
       "  <th>SLOPE</th>       <td>   -0.5613</td> <td>    0.139</td> <td>   -4.041</td> <td> 0.000</td> <td>   -0.834</td> <td>   -0.289</td>\n",
       "</tr>\n",
       "<tr>\n",
       "  <th>SLOPESQ</th>     <td>   -0.2773</td> <td>    0.151</td> <td>   -1.840</td> <td> 0.066</td> <td>   -0.573</td> <td>    0.018</td>\n",
       "</tr>\n",
       "<tr>\n",
       "  <th>elev</th>        <td>   -0.0002</td> <td> 9.94e-06</td> <td>  -21.799</td> <td> 0.000</td> <td>   -0.000</td> <td>   -0.000</td>\n",
       "</tr>\n",
       "<tr>\n",
       "  <th>cr</th>          <td>    2.5827</td> <td>    0.058</td> <td>   44.175</td> <td> 0.000</td> <td>    2.468</td> <td>    2.697</td>\n",
       "</tr>\n",
       "<tr>\n",
       "  <th>ba</th>          <td>    0.0006</td> <td>    0.001</td> <td>    0.961</td> <td> 0.336</td> <td>   -0.001</td> <td>    0.002</td>\n",
       "</tr>\n",
       "<tr>\n",
       "  <th>LOGMAT10</th>    <td>    1.5352</td> <td>    0.106</td> <td>   14.457</td> <td> 0.000</td> <td>    1.327</td> <td>    1.743</td>\n",
       "</tr>\n",
       "<tr>\n",
       "  <th>LOGMAP</th>      <td>    0.5868</td> <td>    0.021</td> <td>   27.429</td> <td> 0.000</td> <td>    0.545</td> <td>    0.629</td>\n",
       "</tr>\n",
       "</table>"
      ],
      "text/plain": [
       "<class 'statsmodels.iolib.summary.Summary'>\n",
       "\"\"\"\n",
       "                 Generalized Linear Model Regression Results                  \n",
       "==============================================================================\n",
       "Dep. Variable:                    DDS   No. Observations:                36415\n",
       "Model:                            GLM   Df Residuals:                    36402\n",
       "Model Family:                   Gamma   Df Model:                           12\n",
       "Link Function:                    log   Scale:                   3.98019714167\n",
       "Method:                          IRLS   Log-Likelihood:                -93222.\n",
       "Date:                Tue, 12 Dec 2017   Deviance:                       46949.\n",
       "Time:                        00:05:33   Pearson chi2:                 1.45e+05\n",
       "No. Iterations:                   100                                         \n",
       "===============================================================================\n",
       "                  coef    std err          z      P>|z|      [0.025      0.975]\n",
       "-------------------------------------------------------------------------------\n",
       "Intercept      -7.2253      0.352    -20.554      0.000      -7.914      -6.536\n",
       "LOGDBH         -0.0390      0.034     -1.145      0.252      -0.106       0.028\n",
       "DBHSQ          -0.0005   2.82e-05    -16.297      0.000      -0.001      -0.000\n",
       "BALDBH         -0.0519      0.002    -29.068      0.000      -0.055      -0.048\n",
       "SLOPECOSASP    -0.0594      0.033     -1.792      0.073      -0.124       0.006\n",
       "SLOPESINASP    -0.0278      0.032     -0.865      0.387      -0.091       0.035\n",
       "SLOPE          -0.5613      0.139     -4.041      0.000      -0.834      -0.289\n",
       "SLOPESQ        -0.2773      0.151     -1.840      0.066      -0.573       0.018\n",
       "elev           -0.0002   9.94e-06    -21.799      0.000      -0.000      -0.000\n",
       "cr              2.5827      0.058     44.175      0.000       2.468       2.697\n",
       "ba              0.0006      0.001      0.961      0.336      -0.001       0.002\n",
       "LOGMAT10        1.5352      0.106     14.457      0.000       1.327       1.743\n",
       "LOGMAP          0.5868      0.021     27.429      0.000       0.545       0.629\n",
       "===============================================================================\n",
       "\"\"\""
      ]
     },
     "execution_count": 29,
     "metadata": {},
     "output_type": "execute_result"
    }
   ],
   "source": [
    "formula = 'DDS ~ LOGDBH + DBHSQ + BALDBH + SLOPECOSASP + SLOPESINASP + SLOPE + SLOPESQ + elev + cr + ba + LOGMAT10 + LOGMAP'\n",
    "gamma_model = smf.glm(formula=formula, data=data, family=sm.families.Gamma(sm.families.links.log)).fit()\n",
    "gamma_model.summary()"
   ]
  },
  {
   "cell_type": "code",
   "execution_count": 65,
   "metadata": {},
   "outputs": [
    {
     "name": "stderr",
     "output_type": "stream",
     "text": [
      "//anaconda/envs/pymc/lib/python3.5/site-packages/statsmodels/genmod/generalized_linear_model.py:244: DomainWarning: The inverse_power link function does not respect the domain of the Gamma family.\n",
      "  DomainWarning)\n"
     ]
    },
    {
     "data": {
      "text/html": [
       "<table class=\"simpletable\">\n",
       "<caption>Generalized Linear Model Regression Results</caption>\n",
       "<tr>\n",
       "  <th>Dep. Variable:</th>         <td>DDS</td>       <th>  No. Observations:  </th>    <td> 36415</td>    \n",
       "</tr>\n",
       "<tr>\n",
       "  <th>Model:</th>                 <td>GLM</td>       <th>  Df Residuals:      </th>    <td> 36402</td>    \n",
       "</tr>\n",
       "<tr>\n",
       "  <th>Model Family:</th>         <td>Gamma</td>      <th>  Df Model:          </th>    <td>    12</td>    \n",
       "</tr>\n",
       "<tr>\n",
       "  <th>Link Function:</th>    <td>inverse_power</td>  <th>  Scale:             </th> <td>2.13555032951</td>\n",
       "</tr>\n",
       "<tr>\n",
       "  <th>Method:</th>               <td>IRLS</td>       <th>  Log-Likelihood:    </th>   <td> -99286.</td>   \n",
       "</tr>\n",
       "<tr>\n",
       "  <th>Date:</th>           <td>Tue, 12 Dec 2017</td> <th>  Deviance:          </th>  <td>1.1429e+05</td>  \n",
       "</tr>\n",
       "<tr>\n",
       "  <th>Time:</th>               <td>01:04:25</td>     <th>  Pearson chi2:      </th>   <td>7.77e+04</td>   \n",
       "</tr>\n",
       "<tr>\n",
       "  <th>No. Iterations:</th>        <td>10</td>        <th>                     </th>       <td> </td>      \n",
       "</tr>\n",
       "</table>\n",
       "<table class=\"simpletable\">\n",
       "<tr>\n",
       "       <td></td>          <th>coef</th>     <th>std err</th>      <th>z</th>      <th>P>|z|</th>  <th>[0.025</th>    <th>0.975]</th>  \n",
       "</tr>\n",
       "<tr>\n",
       "  <th>Intercept</th>   <td>    2.2434</td> <td>    0.019</td> <td>  120.588</td> <td> 0.000</td> <td>    2.207</td> <td>    2.280</td>\n",
       "</tr>\n",
       "<tr>\n",
       "  <th>LOGDBH</th>      <td>   -0.0459</td> <td>    0.001</td> <td>  -55.618</td> <td> 0.000</td> <td>   -0.048</td> <td>   -0.044</td>\n",
       "</tr>\n",
       "<tr>\n",
       "  <th>DBHSQ</th>       <td>    0.0002</td> <td> 2.56e-06</td> <td>   59.745</td> <td> 0.000</td> <td>    0.000</td> <td>    0.000</td>\n",
       "</tr>\n",
       "<tr>\n",
       "  <th>BALDBH</th>      <td>    0.0130</td> <td>    0.000</td> <td>  116.147</td> <td> 0.000</td> <td>    0.013</td> <td>    0.013</td>\n",
       "</tr>\n",
       "<tr>\n",
       "  <th>SLOPECOSASP</th> <td>    0.0078</td> <td>    0.000</td> <td>   21.873</td> <td> 0.000</td> <td>    0.007</td> <td>    0.008</td>\n",
       "</tr>\n",
       "<tr>\n",
       "  <th>SLOPESINASP</th> <td>    0.0247</td> <td>    0.000</td> <td>   67.691</td> <td> 0.000</td> <td>    0.024</td> <td>    0.025</td>\n",
       "</tr>\n",
       "<tr>\n",
       "  <th>SLOPE</th>       <td>   -0.0230</td> <td>    0.002</td> <td>  -11.111</td> <td> 0.000</td> <td>   -0.027</td> <td>   -0.019</td>\n",
       "</tr>\n",
       "<tr>\n",
       "  <th>SLOPESQ</th>     <td>    0.1530</td> <td>    0.003</td> <td>   53.065</td> <td> 0.000</td> <td>    0.147</td> <td>    0.159</td>\n",
       "</tr>\n",
       "<tr>\n",
       "  <th>elev</th>        <td> 3.938e-05</td> <td> 3.26e-07</td> <td>  120.739</td> <td> 0.000</td> <td> 3.87e-05</td> <td>    4e-05</td>\n",
       "</tr>\n",
       "<tr>\n",
       "  <th>cr</th>          <td>   -0.3815</td> <td>    0.003</td> <td> -124.515</td> <td> 0.000</td> <td>   -0.388</td> <td>   -0.375</td>\n",
       "</tr>\n",
       "<tr>\n",
       "  <th>ba</th>          <td>    0.0003</td> <td> 1.27e-05</td> <td>   23.445</td> <td> 0.000</td> <td>    0.000</td> <td>    0.000</td>\n",
       "</tr>\n",
       "<tr>\n",
       "  <th>LOGMAT10</th>    <td>   -0.3599</td> <td>    0.003</td> <td> -107.702</td> <td> 0.000</td> <td>   -0.366</td> <td>   -0.353</td>\n",
       "</tr>\n",
       "<tr>\n",
       "  <th>LOGMAP</th>      <td>   -0.1154</td> <td>    0.001</td> <td> -120.368</td> <td> 0.000</td> <td>   -0.117</td> <td>   -0.114</td>\n",
       "</tr>\n",
       "</table>"
      ],
      "text/plain": [
       "<class 'statsmodels.iolib.summary.Summary'>\n",
       "\"\"\"\n",
       "                 Generalized Linear Model Regression Results                  \n",
       "==============================================================================\n",
       "Dep. Variable:                    DDS   No. Observations:                36415\n",
       "Model:                            GLM   Df Residuals:                    36402\n",
       "Model Family:                   Gamma   Df Model:                           12\n",
       "Link Function:          inverse_power   Scale:                   2.13555032951\n",
       "Method:                          IRLS   Log-Likelihood:                -99286.\n",
       "Date:                Tue, 12 Dec 2017   Deviance:                   1.1429e+05\n",
       "Time:                        01:04:25   Pearson chi2:                 7.77e+04\n",
       "No. Iterations:                    10                                         \n",
       "===============================================================================\n",
       "                  coef    std err          z      P>|z|      [0.025      0.975]\n",
       "-------------------------------------------------------------------------------\n",
       "Intercept       2.2434      0.019    120.588      0.000       2.207       2.280\n",
       "LOGDBH         -0.0459      0.001    -55.618      0.000      -0.048      -0.044\n",
       "DBHSQ           0.0002   2.56e-06     59.745      0.000       0.000       0.000\n",
       "BALDBH          0.0130      0.000    116.147      0.000       0.013       0.013\n",
       "SLOPECOSASP     0.0078      0.000     21.873      0.000       0.007       0.008\n",
       "SLOPESINASP     0.0247      0.000     67.691      0.000       0.024       0.025\n",
       "SLOPE          -0.0230      0.002    -11.111      0.000      -0.027      -0.019\n",
       "SLOPESQ         0.1530      0.003     53.065      0.000       0.147       0.159\n",
       "elev         3.938e-05   3.26e-07    120.739      0.000    3.87e-05       4e-05\n",
       "cr             -0.3815      0.003   -124.515      0.000      -0.388      -0.375\n",
       "ba              0.0003   1.27e-05     23.445      0.000       0.000       0.000\n",
       "LOGMAT10       -0.3599      0.003   -107.702      0.000      -0.366      -0.353\n",
       "LOGMAP         -0.1154      0.001   -120.368      0.000      -0.117      -0.114\n",
       "===============================================================================\n",
       "\"\"\""
      ]
     },
     "execution_count": 65,
     "metadata": {},
     "output_type": "execute_result"
    }
   ],
   "source": [
    "formula = 'DDS ~ LOGDBH + DBHSQ + BALDBH + SLOPECOSASP + SLOPESINASP + SLOPE + SLOPESQ + elev + cr + ba + LOGMAT10 + LOGMAP'\n",
    "gamma2_model = smf.glm(formula=formula, data=data, family=sm.families.Gamma()).fit()\n",
    "gamma2_model.summary()"
   ]
  },
  {
   "cell_type": "code",
   "execution_count": 74,
   "metadata": {},
   "outputs": [
    {
     "data": {
      "image/png": "[encoded data removed]",
      "text/plain": [
       "<matplotlib.figure.Figure at 0x1c16130588>"
      ]
     },
     "metadata": {},
     "output_type": "display_data"
    }
   ],
   "source": [
    "observed = np.log(DDS)\n",
    "predicted = np.log(base_model.mu)\n",
    "g = sns.jointplot(observed, predicted, kind='kde', color='g', xlim=(-5,5), ylim=(-5,5), stat_func = None)\n",
    "g.ax_joint.plot([-100,100], [-100,100], color='k', linestyle=':')\n",
    "sns.regplot(observed, predicted, ax=g.ax_joint, line_kws={'ls':'-' ,'color':'g', 'lw':1}, scatter=False)\n",
    "g.ax_joint.set_xlabel('Observed log(DDS)')\n",
    "g.ax_joint.set_ylabel('Predicted log(DDS)')\n",
    "plt.savefig('logDDS_base_model.png');"
   ]
  },
  {
   "cell_type": "code",
   "execution_count": 75,
   "metadata": {},
   "outputs": [
    {
     "data": {
      "image/png": "[encoded data removed]",
      "text/plain": [
       "<matplotlib.figure.Figure at 0x1c16130048>"
      ]
     },
     "metadata": {},
     "output_type": "display_data"
    }
   ],
   "source": [
    "observed = DDS\n",
    "predicted = base_model.mu\n",
    "g = sns.jointplot(observed, predicted, kind='kde', color='g', xlim=(-1,15), ylim=(-1,15), stat_func = None)\n",
    "g.ax_joint.plot([-100,100], [-100,100], color='k', linestyle=':')\n",
    "sns.regplot(observed, predicted, ax=g.ax_joint, line_kws={'ls':'-' ,'color':'g', 'lw':1}, scatter=False)\n",
    "g.ax_joint.set_xlabel('Observed DDS')\n",
    "g.ax_joint.set_ylabel('Predicted DDS')\n",
    "plt.savefig('DDS_base_model.png');"
   ]
  },
  {
   "cell_type": "code",
   "execution_count": 76,
   "metadata": {},
   "outputs": [
    {
     "data": {
      "image/png": "[encoded data removed]",
      "text/plain": [
       "<matplotlib.figure.Figure at 0x1c280cd780>"
      ]
     },
     "metadata": {},
     "output_type": "display_data"
    }
   ],
   "source": [
    "observed = np.sqrt(DDS)\n",
    "predicted = np.sqrt(base_model.mu)\n",
    "g = sns.jointplot(observed, predicted, kind='kde', color='g', xlim=(-0.25,5), ylim=(-0.25,5), stat_func = None)\n",
    "sns.regplot(observed, predicted, ax=g.ax_joint, line_kws={'color':'g', 'lw':1}, scatter=False)\n",
    "g.ax_joint.plot([-100,100], [-100,100], color='k', linestyle=':')\n",
    "g.ax_joint.set_xlabel('Observed 10yr DBH increment')\n",
    "g.ax_joint.set_ylabel('Predicted 10yr DBH increment')\n",
    "plt.savefig('DBHinch_base_model.png');"
   ]
  },
  {
   "cell_type": "code",
   "execution_count": 59,
   "metadata": {},
   "outputs": [],
   "source": [
    "def nash_sutcliffe(observed, predicted):\n",
    "    return 1 - ((predicted - observed)**2).sum()/((observed - observed.mean())**2).sum()\n",
    "def r_squared(observed, predicted):\n",
    "    r = ((observed - observed.mean())*(predicted - predicted.mean())).sum()/ \\\n",
    "    ((np.sqrt(((observed - observed.mean())**2).sum()))*(np.sqrt(((predicted - predicted.mean())**2).sum())))\n",
    "    return r**2\n",
    "def RMSE(observed, predicted):\n",
    "    return np.sqrt(((predicted - observed)**2).sum()/len(predicted))"
   ]
  },
  {
   "cell_type": "code",
   "execution_count": 67,
   "metadata": {},
   "outputs": [
    {
     "name": "stdout",
     "output_type": "stream",
     "text": [
      "0.4218377966194691 0.3659607341565423\n",
      "0.422189651693 0.386890640217\n",
      "0.00133240923484\n"
     ]
    }
   ],
   "source": [
    "print(nash_sutcliffe(DDS, base_model.mu), nash_sutcliffe(DDS, gamma_model.mu))\n",
    "print(r_squared(DDS, base_model.mu), r_squared(DDS, gamma_model.mu))\n",
    "print(r_squared(DDS, gamma2_model.mu))"
   ]
  },
  {
   "cell_type": "code",
   "execution_count": 60,
   "metadata": {},
   "outputs": [
    {
     "name": "stdout",
     "output_type": "stream",
     "text": [
      "235540.421079 186469.384228\n",
      "990489.202335 -335371.243018\n",
      "6.13995273941 6.42981173707\n"
     ]
    }
   ],
   "source": [
    "print(base_model.aic, gamma_model.aic)\n",
    "print(base_model.bic, gamma_model.bic)\n",
    "print(RMSE(DDS, base_model.mu), RMSE(DDS, gamma_model.mu))"
   ]
  }
 ],
 "metadata": {
  "kernelspec": {
   "display_name": "Python (pymc)",
   "language": "python",
   "name": "pymc"
  },
  "language_info": {
   "codemirror_mode": {
    "name": "ipython",
    "version": 3
   },
   "file_extension": ".py",
   "mimetype": "text/x-python",
   "name": "python",
   "nbconvert_exporter": "python",
   "pygments_lexer": "ipython3",
   "version": "3.5.4"
  }
 },
 "nbformat": 4,
 "nbformat_minor": 2
}
