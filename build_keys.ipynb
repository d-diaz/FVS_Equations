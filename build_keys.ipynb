{
 "cells": [
  {
   "cell_type": "markdown",
   "metadata": {},
   "source": [
    "<h2>Construct keyfiles from project directory containing a Base FVS Rx template.</h2>"
   ]
  },
  {
   "cell_type": "code",
   "execution_count": 1,
   "metadata": {},
   "outputs": [],
   "source": [
    "import os\n",
    "import glob\n",
    "from jinja2 import Template\n",
    "import pandas as pd\n",
    "import random\n",
    "import psycopg2"
   ]
  },
  {
   "cell_type": "markdown",
   "metadata": {},
   "source": [
    "Create a jinja2 template from a Base_Rx.key file."
   ]
  },
  {
   "cell_type": "code",
   "execution_count": 2,
   "metadata": {},
   "outputs": [
    {
     "name": "stdout",
     "output_type": "stream",
     "text": [
      "Found Base_Rx.key and created jinja2 template.\n"
     ]
    }
   ],
   "source": [
    "# read in the base_rx keyfile template using jinja2 templating\n",
    "with open(os.path.join('Rx_Template','Base_Rx.key'), 'r') as base_keyfile:\n",
    "    template = Template(base_keyfile.read())\n",
    "    print('Found Base_Rx.key and created jinja2 template.')"
   ]
  },
  {
   "cell_type": "markdown",
   "metadata": {},
   "source": [
    "A dictionary for holding the items to insert into an FVS keyfile template using jinja2 templating."
   ]
  },
  {
   "cell_type": "code",
   "execution_count": 3,
   "metadata": {},
   "outputs": [],
   "source": [
    "inserts = {}"
   ]
  },
  {
   "cell_type": "markdown",
   "metadata": {},
   "source": [
    "Specify the FVS input and output databases for insertion in the jinja2 template"
   ]
  },
  {
   "cell_type": "code",
   "execution_count": 4,
   "metadata": {},
   "outputs": [],
   "source": [
    "inserts['FVSIn'] = 'PNWFIADB_FVSIn'\n",
    "inserts['FVSOut'] = 'PNWFIADB_FVSOut'"
   ]
  },
  {
   "cell_type": "markdown",
   "metadata": {},
   "source": [
    "Read the contents of each rx*.kcp file in the Rxs directory and store them as values in an `rxs_dict` dictionary."
   ]
  },
  {
   "cell_type": "code",
   "execution_count": 5,
   "metadata": {},
   "outputs": [
    {
     "name": "stdout",
     "output_type": "stream",
     "text": [
      "Found the following kcp files in the Rxs subdirectory:\n",
      "GrowOnly.kcp... added to template.\n"
     ]
    }
   ],
   "source": [
    "rxs_dict = {}\n",
    "# a dictionary storing the silvicultural keywords for each rx\n",
    "rx_kcps = glob.glob(os.path.join('Rx_Template', 'Rxs', '*.kcp'))\n",
    "if len(rx_kcps) > 0:\n",
    "    print('Found the following kcp files in the Rxs subdirectory:')\n",
    "    for kcp in rx_kcps:\n",
    "        fname = os.path.split(kcp)[-1]\n",
    "        print(fname, end='...')\n",
    "        # read the kcp file\n",
    "        key = fname.split('/')[-1].split('.')[0] # key for item in inserts dictionary\n",
    "        with open(kcp, 'r') as item:\n",
    "            value = item.read()\n",
    "        # add the contents of the kcp file to the inserts dictionary\n",
    "        rxs_dict[key] = value\n",
    "        print(' added to template.')\n",
    "else: \n",
    "    raise FileNotFoundError('No kcp files found in the Rx_Template directory.')"
   ]
  },
  {
   "cell_type": "markdown",
   "metadata": {},
   "source": [
    "A function to use for creating keyfiles."
   ]
  },
  {
   "cell_type": "code",
   "execution_count": 6,
   "metadata": {},
   "outputs": [],
   "source": [
    "def create_keyfile(standID, variant, rx, offset):\n",
    "    '''\n",
    "    Creates a single FVS keyfile based on the jinja2 template.\n",
    "    '''\n",
    "    inserts['ID'] = standID\n",
    "    inserts['rx'] = rxs_dict[rx]\n",
    "    # FVS slows down outputting to large databases, so we'll divide output among 10 databases\n",
    "    #inserts['db_num'] = random.randint(1,10) # add a random number, 1-10 for a output database suffix\n",
    "    \n",
    "    fname = 'fvs'+variant+'_stand'+str(standID)+'_'+rx+'_off'+str(offset)+'.key'\n",
    "    path = os.path.abspath('keyfiles_to_run')\n",
    "    if not os.path.exists(path):\n",
    "        os.makedirs(path, exist_ok=True)\n",
    "    with open(os.path.join('keyfiles_to_run',fname),'w') as keyfile:\n",
    "        keyfile.write(template.render(**inserts))"
   ]
  },
  {
   "cell_type": "code",
   "execution_count": 7,
   "metadata": {},
   "outputs": [],
   "source": [
    "def create_keyfiles(stands, variants, rxs, offsets=[0], verbose=False):\n",
    "    '''\n",
    "    Creates FVS keyfiles for all stands using Base_Rx.key as a template.\n",
    "    Arguments:\n",
    "    stands: List of standIDs that keyfiles will be created for. Required.\n",
    "    variants: List of 2-letter codes of FVS variant for each stand. Required.\n",
    "    rxs: a list of rx names to build keyfiles for. Required.\n",
    "    offsets: optional, a list of offsets, used in FVS to delay implementation of a \n",
    "        management regime. e.g., [0, 5, 10]. Defaults to a list with no offsets (i.e., [0]).\n",
    "    '''\n",
    "    stands_processed = 0\n",
    "    keyfiles_written = 0\n",
    "    num_stands = len(stands)\n",
    "    num_keys = num_stands * len(rxs) * len(offsets)\n",
    "    print('Creating {:,} keyfiles for {:,} stands.'.format(num_keys, num_stands))\n",
    "\n",
    "    if not verbose:\n",
    "        print('Stands processed', end=\": \")\n",
    "    for i in range(len(stands)):\n",
    "        if verbose:\n",
    "            print('Creating keyfiles for stand', stands[i], end='... ')\n",
    "        stand_keyfiles = 0\n",
    "        for rx in rxs:\n",
    "            for offset in offsets:\n",
    "                # run the create_keyfile function\n",
    "                create_keyfile(standID=stands.iloc[i], variant=variants.iloc[i], rx=rx, offset=offset) \n",
    "                keyfiles_written += 1\n",
    "                stand_keyfiles += 1\n",
    "        stands_processed += 1\n",
    "        if verbose:\n",
    "            print(stand_keyfiles, 'keyfiles written.')\n",
    "        else:\n",
    "            if stands_processed % 100 == 0:\n",
    "                print('{:,}'.format(stands_processed), end='... ')\n",
    "    print('Done. Created', keyfiles_written, 'keyfiles for', stands_processed, 'stands.')"
   ]
  },
  {
   "cell_type": "markdown",
   "metadata": {},
   "source": [
    "Identify stands to run."
   ]
  },
  {
   "cell_type": "code",
   "execution_count": 8,
   "metadata": {},
   "outputs": [],
   "source": [
    "pg_engine='postgresql://postgres@localhost:5432/PNWFIADB_FVSIn'\n",
    "\n",
    "# only grab the stands that have DBH increment recorded\n",
    "# and which have all needed covariates as non nulls\n",
    "\n",
    "SQL = '''\n",
    "SELECT fvs_standinit.stand_id, variant\n",
    "FROM fvs_standinit, fvs_treeinit\n",
    "WHERE fvs_standinit.stand_id = fvs_treeinit.stand_id AND\n",
    "aspect IS NOT NULL AND slope IS NOT NULL and dg IS NOT NULL\n",
    "AND crratio IS NOT NULL AND dbh IS NOT NULL AND species = 202\n",
    "AND inv_year <= 2015\n",
    "GROUP BY fvs_standinit.stand_id, variant\n",
    "'''\n",
    "\n",
    "# read in the stands from the FVSIn database\n",
    "stands = pd.read_sql(sql=SQL, con=pg_engine)"
   ]
  },
  {
   "cell_type": "code",
   "execution_count": 9,
   "metadata": {},
   "outputs": [
    {
     "data": {
      "text/html": [
       "<div>\n",
       "<style scoped>\n",
       "    .dataframe tbody tr th:only-of-type {\n",
       "        vertical-align: middle;\n",
       "    }\n",
       "\n",
       "    .dataframe tbody tr th {\n",
       "        vertical-align: top;\n",
       "    }\n",
       "\n",
       "    .dataframe thead th {\n",
       "        text-align: right;\n",
       "    }\n",
       "</style>\n",
       "<table border=\"1\" class=\"dataframe\">\n",
       "  <thead>\n",
       "    <tr style=\"text-align: right;\">\n",
       "      <th></th>\n",
       "      <th>stand_id</th>\n",
       "      <th>variant</th>\n",
       "    </tr>\n",
       "  </thead>\n",
       "  <tbody>\n",
       "    <tr>\n",
       "      <th>0</th>\n",
       "      <td>680013010497</td>\n",
       "      <td>NC</td>\n",
       "    </tr>\n",
       "    <tr>\n",
       "      <th>1</th>\n",
       "      <td>680014010497</td>\n",
       "      <td>NC</td>\n",
       "    </tr>\n",
       "    <tr>\n",
       "      <th>2</th>\n",
       "      <td>680016010497</td>\n",
       "      <td>NC</td>\n",
       "    </tr>\n",
       "    <tr>\n",
       "      <th>3</th>\n",
       "      <td>681249010497</td>\n",
       "      <td>NC</td>\n",
       "    </tr>\n",
       "    <tr>\n",
       "      <th>4</th>\n",
       "      <td>681596010497</td>\n",
       "      <td>NC</td>\n",
       "    </tr>\n",
       "  </tbody>\n",
       "</table>\n",
       "</div>"
      ],
      "text/plain": [
       "       stand_id variant\n",
       "0  680013010497      NC\n",
       "1  680014010497      NC\n",
       "2  680016010497      NC\n",
       "3  681249010497      NC\n",
       "4  681596010497      NC"
      ]
     },
     "execution_count": 9,
     "metadata": {},
     "output_type": "execute_result"
    }
   ],
   "source": [
    "#stands = stands.loc[stands.CountPlot == 'N']\n",
    "stands.head()"
   ]
  },
  {
   "cell_type": "markdown",
   "metadata": {},
   "source": [
    "Create the keyfiles!"
   ]
  },
  {
   "cell_type": "code",
   "execution_count": 10,
   "metadata": {},
   "outputs": [
    {
     "name": "stdout",
     "output_type": "stream",
     "text": [
      "Creating 22,972 keyfiles for 22,972 stands.\n",
      "Stands processed: 100... 200... 300... 400... 500... 600... 700... 800... 900... 1,000... 1,100... 1,200... 1,300... 1,400... 1,500... 1,600... 1,700... 1,800... 1,900... 2,000... 2,100... 2,200... 2,300... 2,400... 2,500... 2,600... 2,700... 2,800... 2,900... 3,000... 3,100... 3,200... 3,300... 3,400... 3,500... 3,600... 3,700... 3,800... 3,900... 4,000... 4,100... 4,200... 4,300... 4,400... 4,500... 4,600... 4,700... 4,800... 4,900... 5,000... 5,100... 5,200... 5,300... 5,400... 5,500... 5,600... 5,700... 5,800... 5,900... 6,000... 6,100... 6,200... 6,300... 6,400... 6,500... 6,600... 6,700... 6,800... 6,900... 7,000... 7,100... 7,200... 7,300... 7,400... 7,500... 7,600... 7,700... 7,800... 7,900... 8,000... 8,100... 8,200... 8,300... 8,400... 8,500... 8,600... 8,700... 8,800... 8,900... 9,000... 9,100... 9,200... 9,300... 9,400... 9,500... 9,600... 9,700... 9,800... 9,900... 10,000... 10,100... 10,200... 10,300... 10,400... 10,500... 10,600... 10,700... 10,800... 10,900... 11,000... 11,100... 11,200... 11,300... 11,400... 11,500... 11,600... 11,700... 11,800... 11,900... 12,000... 12,100... 12,200... 12,300... 12,400... 12,500... 12,600... 12,700... 12,800... 12,900... 13,000... 13,100... 13,200... 13,300... 13,400... 13,500... 13,600... 13,700... 13,800... 13,900... 14,000... 14,100... 14,200... 14,300... 14,400... 14,500... 14,600... 14,700... 14,800... 14,900... 15,000... 15,100... 15,200... 15,300... 15,400... 15,500... 15,600... 15,700... 15,800... 15,900... 16,000... 16,100... 16,200... 16,300... 16,400... 16,500... 16,600... 16,700... 16,800... 16,900... 17,000... 17,100... 17,200... 17,300... 17,400... 17,500... 17,600... 17,700... 17,800... 17,900... 18,000... 18,100... 18,200... 18,300... 18,400... 18,500... 18,600... 18,700... 18,800... 18,900... 19,000... 19,100... 19,200... 19,300... 19,400... 19,500... 19,600... 19,700... 19,800... 19,900... 20,000... 20,100... 20,200... 20,300... 20,400... 20,500... 20,600... 20,700... 20,800... 20,900... 21,000... 21,100... 21,200... 21,300... 21,400... 21,500... 21,600... 21,700... 21,800... 21,900... 22,000... 22,100... 22,200... 22,300... 22,400... 22,500... 22,600... 22,700... 22,800... 22,900... Done. Created 22972 keyfiles for 22972 stands.\n",
      "Wall time: 1min 8s\n"
     ]
    }
   ],
   "source": [
    "%%time\n",
    "rxs_to_run = ['GrowOnly']\n",
    "#stands = stands.sample(n=200)\n",
    "create_keyfiles(stands=stands.stand_id, variants=stands.variant, rxs=rxs_to_run, verbose=False)"
   ]
  }
 ],
 "metadata": {
  "kernelspec": {
   "display_name": "Python [conda env:Py3.5]",
   "language": "python",
   "name": "conda-env-Py3.5-py"
  },
  "language_info": {
   "codemirror_mode": {
    "name": "ipython",
    "version": 3
   },
   "file_extension": ".py",
   "mimetype": "text/x-python",
   "name": "python",
   "nbconvert_exporter": "python",
   "pygments_lexer": "ipython3",
   "version": "3.5.3"
  }
 },
 "nbformat": 4,
 "nbformat_minor": 2
}
