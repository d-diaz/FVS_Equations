{
 "cells": [
  {
   "cell_type": "markdown",
   "metadata": {},
   "source": [
    "<h2>Construct keyfiles from project directory containing a Base FVS Rx template.</h2>"
   ]
  },
  {
   "cell_type": "code",
   "execution_count": 1,
   "metadata": {},
   "outputs": [],
   "source": [
    "import os\n",
    "import glob\n",
    "from jinja2 import Template\n",
    "import pandas as pd\n",
    "import random\n",
    "import psycopg2"
   ]
  },
  {
   "cell_type": "markdown",
   "metadata": {},
   "source": [
    "Create a jinja2 template from a Base_Rx.key file."
   ]
  },
  {
   "cell_type": "code",
   "execution_count": 2,
   "metadata": {},
   "outputs": [
    {
     "name": "stdout",
     "output_type": "stream",
     "text": [
      "Found Base_Rx.key and created jinja2 template.\n"
     ]
    }
   ],
   "source": [
    "# read in the base_rx keyfile template using jinja2 templating\n",
    "with open(os.path.join('Rx_Template','Base_Rx.key'), 'r') as base_keyfile:\n",
    "    template = Template(base_keyfile.read())\n",
    "    print('Found Base_Rx.key and created jinja2 template.')"
   ]
  },
  {
   "cell_type": "markdown",
   "metadata": {},
   "source": [
    "A dictionary for holding the items to insert into an FVS keyfile template using jinja2 templating."
   ]
  },
  {
   "cell_type": "code",
   "execution_count": 3,
   "metadata": {},
   "outputs": [],
   "source": [
    "inserts = {}"
   ]
  },
  {
   "cell_type": "markdown",
   "metadata": {},
   "source": [
    "Specify the FVS input and output databases for insertion in the jinja2 template"
   ]
  },
  {
   "cell_type": "code",
   "execution_count": 4,
   "metadata": {},
   "outputs": [],
   "source": [
    "inserts['FVSIn'] = 'PNWFIADB_FVSIn'\n",
    "inserts['FVSOut'] = 'PNWFIADB_FVSOut'"
   ]
  },
  {
   "cell_type": "markdown",
   "metadata": {},
   "source": [
    "Look in the Rx_Template directory, add all the kcp files to the `inserts` dictionary."
   ]
  },
  {
   "cell_type": "code",
   "execution_count": 5,
   "metadata": {},
   "outputs": [
    {
     "name": "stdout",
     "output_type": "stream",
     "text": [
      "Found the following kcp files in the Rx_Template directory:\n",
      "Mgmt_Costs.kcp... added to template.\n"
     ]
    }
   ],
   "source": [
    "template_kcps = glob.glob(os.path.join('Rx_Template','*.kcp'))\n",
    "if len(template_kcps) > 0:\n",
    "    print('Found the following kcp files in the Rx_Template directory:')\n",
    "    for kcp in template_kcps:\n",
    "        fname = os.path.split(kcp)[-1]\n",
    "        print(fname, end='...')\n",
    "        # read the kcp file\n",
    "        key = fname.split('.')[0] # key for item in inserts dictionary\n",
    "        with open(kcp, 'r') as item:\n",
    "            value = item.read()\n",
    "        # add the contents of the kcp file to the inserts dictionary\n",
    "        inserts[key] = value\n",
    "        print(' added to template.')\n",
    "else: \n",
    "    raise FileNotFoundError('No kcp files found in the Rx_Template directory.')"
   ]
  },
  {
   "cell_type": "markdown",
   "metadata": {},
   "source": [
    "Gather variant-specific KCP files for SDImax and Log_Values"
   ]
  },
  {
   "cell_type": "code",
   "execution_count": 6,
   "metadata": {},
   "outputs": [
    {
     "name": "stdout",
     "output_type": "stream",
     "text": [
      "Found the following kcp files in the variant_specific_kcps directory:\n",
      "PN logvalue... added to template.\n",
      "PN SDImax... added to template.\n"
     ]
    }
   ],
   "source": [
    "SDImax_dict = {} # variant: SDImax keywords\n",
    "logvalue_dict = {} # variant: log value specs\n",
    "\n",
    "variant_kcps = glob.glob(os.path.join('Rx_Template','variant_specific_kcps','*.kcp'))\n",
    "if len(variant_kcps) > 0:\n",
    "    print('Found the following kcp files in the variant_specific_kcps directory:')\n",
    "    for kcp in variant_kcps:\n",
    "        fname = os.path.split(kcp)[-1]\n",
    "        variant = fname.split('.')[0][-2:]\n",
    "        kcp_type = fname.split('.')[0][:-3]\n",
    "        print(variant, kcp_type, end='...')\n",
    "        # read the kcp file\n",
    "        with open(kcp, 'r') as item:\n",
    "            key = variant\n",
    "            value = item.read()\n",
    "        if kcp_type == 'SDImax':\n",
    "            SDImax_dict[key] = value\n",
    "        elif kcp_type == 'logvalue':\n",
    "            logvalue_dict[key] = value\n",
    "        print(' added to template.')\n",
    "else: \n",
    "    raise FileNotFoundError('No kcp files found in the variant_specific_kcps directory.')"
   ]
  },
  {
   "cell_type": "markdown",
   "metadata": {},
   "source": [
    "Read the contents of each rx*.kcp file in the Rxs directory and store them as values in an `rxs_dict` dictionary."
   ]
  },
  {
   "cell_type": "code",
   "execution_count": 7,
   "metadata": {},
   "outputs": [
    {
     "name": "stdout",
     "output_type": "stream",
     "text": [
      "Found the following kcp files in the Rxs subdirectory:\n",
      "GrowOnly.kcp... added to template.\n"
     ]
    }
   ],
   "source": [
    "rxs_dict = {}\n",
    "# a dictionary storing the silvicultural keywords for each rx\n",
    "rx_kcps = glob.glob(os.path.join('Rx_Template', 'Rxs', '*.kcp'))\n",
    "if len(rx_kcps) > 0:\n",
    "    print('Found the following kcp files in the Rxs subdirectory:')\n",
    "    for kcp in rx_kcps:\n",
    "        fname = os.path.split(kcp)[-1]\n",
    "        print(fname, end='...')\n",
    "        # read the kcp file\n",
    "        key = fname.split('/')[-1].split('.')[0] # key for item in inserts dictionary\n",
    "        with open(kcp, 'r') as item:\n",
    "            value = item.read()\n",
    "        # add the contents of the kcp file to the inserts dictionary\n",
    "        rxs_dict[key] = value\n",
    "        print(' added to template.')\n",
    "else: \n",
    "    raise FileNotFoundError('No kcp files found in the Rx_Template directory.')"
   ]
  },
  {
   "cell_type": "markdown",
   "metadata": {},
   "source": [
    "A function to use for creating keyfiles."
   ]
  },
  {
   "cell_type": "code",
   "execution_count": 8,
   "metadata": {},
   "outputs": [],
   "source": [
    "def create_keyfile(standID, variant, rx, offset):\n",
    "    '''\n",
    "    Creates a single FVS keyfile based on the jinja2 template.\n",
    "    '''\n",
    "    inserts['ID'] = standID\n",
    "    inserts['SDImax'] = SDImax_dict[variant]\n",
    "    inserts['Log_Value'] = logvalue_dict[variant]\n",
    "    inserts['rx'] = rxs_dict[rx]\n",
    "    inserts['offset'] = offset\n",
    "    # FVS slows down outputting to large databases, so we'll divide output among 10 databases\n",
    "    #inserts['db_num'] = random.randint(1,10) # add a random number, 1-10 for a output database suffix\n",
    "    \n",
    "    fname = 'fvs'+variant+'_stand'+str(standID)+'_'+rx+'_off'+str(offset)+'.key'\n",
    "    path = os.path.abspath('keyfiles_to_run')\n",
    "    if not os.path.exists(path):\n",
    "        os.makedirs(path, exist_ok=True)\n",
    "    with open(os.path.join('keyfiles_to_run',fname),'w') as keyfile:\n",
    "        keyfile.write(template.render(**inserts))"
   ]
  },
  {
   "cell_type": "code",
   "execution_count": 9,
   "metadata": {},
   "outputs": [],
   "source": [
    "def create_keyfiles(stands, variants, rxs, offsets=[0], verbose=False):\n",
    "    '''\n",
    "    Creates FVS keyfiles for all stands using Base_Rx.key as a template.\n",
    "    Arguments:\n",
    "    stands: List of standIDs that keyfiles will be created for. Required.\n",
    "    variants: List of 2-letter codes of FVS variant for each stand. Required.\n",
    "    rxs: a list of rx names to build keyfiles for. Required.\n",
    "    offsets: optional, a list of offsets, used in FVS to delay implementation of a \n",
    "        management regime. e.g., [0, 5, 10]. Defaults to a list with no offsets (i.e., [0]).\n",
    "    '''\n",
    "    stands_processed = 0\n",
    "    keyfiles_written = 0\n",
    "    num_stands = len(stands)\n",
    "    num_keys = num_stands * len(rxs) * len(offsets)\n",
    "    print('Creating {:,} keyfiles for {:,} stands.'.format(num_keys, num_stands))\n",
    "\n",
    "    if not verbose:\n",
    "        print('Stands processed', end=\": \")\n",
    "    for i in range(len(stands)):\n",
    "        if verbose:\n",
    "            print('Creating keyfiles for stand', stands[i], end='... ')\n",
    "        stand_keyfiles = 0\n",
    "        for rx in rxs:\n",
    "            for offset in offsets:\n",
    "                # run the create_keyfile function\n",
    "                create_keyfile(standID=stands.iloc[i], variant=variants.iloc[i], rx=rx, offset=offset) \n",
    "                keyfiles_written += 1\n",
    "                stand_keyfiles += 1\n",
    "        stands_processed += 1\n",
    "        if verbose:\n",
    "            print(stand_keyfiles, 'keyfiles written.')\n",
    "        else:\n",
    "            if stands_processed % 100 == 0:\n",
    "                print('{:,}'.format(stands_processed), end='... ')\n",
    "    print('Done. Created', keyfiles_written, 'keyfiles for', stands_processed, 'stands.')"
   ]
  },
  {
   "cell_type": "markdown",
   "metadata": {},
   "source": [
    "Identify stands to run."
   ]
  },
  {
   "cell_type": "code",
   "execution_count": 10,
   "metadata": {},
   "outputs": [],
   "source": [
    "mydb, myusername, myhost = \"PNWFIADB_FVSIn\", 'postgres', 'localhost'\n",
    "conn_string = \"dbname={dbname} user={user} host={host}\".format(dbname=mydb, user=myusername, host=myhost)\n",
    "conn = psycopg2.connect(conn_string)\n",
    "SQL = '''\n",
    "SELECT DISTINCT(subplot.cn), 'PN' as variant\n",
    "FROM tree, tree_pnw, subplot\n",
    "WHERE tree_pnw.inc10yr_pnwrs IS NOT NULL AND tree.cn = tree_pnw.tre_cn AND \n",
    "tree.subp = subplot.subp AND tree.plt_cn = subplot.plt_cn AND tree.spcd = 202\n",
    "'''\n",
    "# read in the stands from the FVSIn database\n",
    "stands = pd.read_sql(sql=SQL, con=conn)\n",
    "conn.close()"
   ]
  },
  {
   "cell_type": "code",
   "execution_count": 11,
   "metadata": {},
   "outputs": [
    {
     "data": {
      "text/html": [
       "<div>\n",
       "<style scoped>\n",
       "    .dataframe tbody tr th:only-of-type {\n",
       "        vertical-align: middle;\n",
       "    }\n",
       "\n",
       "    .dataframe tbody tr th {\n",
       "        vertical-align: top;\n",
       "    }\n",
       "\n",
       "    .dataframe thead th {\n",
       "        text-align: right;\n",
       "    }\n",
       "</style>\n",
       "<table border=\"1\" class=\"dataframe\">\n",
       "  <thead>\n",
       "    <tr style=\"text-align: right;\">\n",
       "      <th></th>\n",
       "      <th>cn</th>\n",
       "      <th>variant</th>\n",
       "    </tr>\n",
       "  </thead>\n",
       "  <tbody>\n",
       "    <tr>\n",
       "      <th>0</th>\n",
       "      <td>12832272010497</td>\n",
       "      <td>PN</td>\n",
       "    </tr>\n",
       "    <tr>\n",
       "      <th>1</th>\n",
       "      <td>12869812010497</td>\n",
       "      <td>PN</td>\n",
       "    </tr>\n",
       "    <tr>\n",
       "      <th>2</th>\n",
       "      <td>13046581010497</td>\n",
       "      <td>PN</td>\n",
       "    </tr>\n",
       "    <tr>\n",
       "      <th>3</th>\n",
       "      <td>13097205010497</td>\n",
       "      <td>PN</td>\n",
       "    </tr>\n",
       "    <tr>\n",
       "      <th>4</th>\n",
       "      <td>13097477010497</td>\n",
       "      <td>PN</td>\n",
       "    </tr>\n",
       "  </tbody>\n",
       "</table>\n",
       "</div>"
      ],
      "text/plain": [
       "               cn variant\n",
       "0  12832272010497      PN\n",
       "1  12869812010497      PN\n",
       "2  13046581010497      PN\n",
       "3  13097205010497      PN\n",
       "4  13097477010497      PN"
      ]
     },
     "execution_count": 11,
     "metadata": {},
     "output_type": "execute_result"
    }
   ],
   "source": [
    "#stands = stands.loc[stands.CountPlot == 'N']\n",
    "stands.head()"
   ]
  },
  {
   "cell_type": "markdown",
   "metadata": {},
   "source": [
    "Create the keyfiles!"
   ]
  },
  {
   "cell_type": "code",
   "execution_count": 12,
   "metadata": {},
   "outputs": [
    {
     "name": "stdout",
     "output_type": "stream",
     "text": [
      "Creating 13,011 keyfiles for 13,011 stands.\n",
      "Stands processed: 100... 200... 300... 400... 500... 600... 700... 800... 900... 1,000... 1,100... 1,200... 1,300... 1,400... 1,500... 1,600... 1,700... 1,800... 1,900... 2,000... 2,100... 2,200... 2,300... 2,400... 2,500... 2,600... 2,700... 2,800... 2,900... 3,000... 3,100... 3,200... 3,300... 3,400... 3,500... 3,600... 3,700... 3,800... 3,900... 4,000... 4,100... 4,200... 4,300... 4,400... 4,500... 4,600... 4,700... 4,800... 4,900... 5,000... 5,100... 5,200... 5,300... 5,400... 5,500... 5,600... 5,700... 5,800... 5,900... 6,000... 6,100... 6,200... 6,300... 6,400... 6,500... 6,600... 6,700... 6,800... 6,900... 7,000... 7,100... 7,200... 7,300... 7,400... 7,500... 7,600... 7,700... 7,800... 7,900... 8,000... 8,100... 8,200... 8,300... 8,400... 8,500... 8,600... 8,700... 8,800... 8,900... 9,000... 9,100... 9,200... 9,300... 9,400... 9,500... 9,600... 9,700... 9,800... 9,900... 10,000... 10,100... 10,200... 10,300... 10,400... 10,500... 10,600... 10,700... 10,800... 10,900... 11,000... 11,100... 11,200... 11,300... 11,400... 11,500... 11,600... 11,700... 11,800... 11,900... 12,000... 12,100... 12,200... 12,300... 12,400... 12,500... 12,600... 12,700... 12,800... 12,900... 13,000... Done. Created 13011 keyfiles for 13011 stands.\n",
      "Wall time: 1min 9s\n"
     ]
    }
   ],
   "source": [
    "%%time\n",
    "rxs_to_run = ['GrowOnly']\n",
    "create_keyfiles(stands=stands.cn, variants=stands.variant, rxs=rxs_to_run, verbose=False)"
   ]
  },
  {
   "cell_type": "code",
   "execution_count": 13,
   "metadata": {},
   "outputs": [],
   "source": [
    "#rxs_to_run = ['rx2', 'rx3', 'rx4_noCT', 'rx4_SDI35', 'rx4_SDI40', 'rx4_SDI45', 'rx5_noCT', 'rx5_SDI35', 'rx5_SDI40', 'rx5_SDI45', 'rx4_OR', 'rx5_OR']\n",
    "# rxs_to_run = ['rx1', 'rx2', 'rx3', 'rx4', 'rx5']"
   ]
  }
 ],
 "metadata": {
  "kernelspec": {
   "display_name": "Python [conda env:Py3.5]",
   "language": "python",
   "name": "conda-env-Py3.5-py"
  },
  "language_info": {
   "codemirror_mode": {
    "name": "ipython",
    "version": 3
   },
   "file_extension": ".py",
   "mimetype": "text/x-python",
   "name": "python",
   "nbconvert_exporter": "python",
   "pygments_lexer": "ipython3",
   "version": "3.5.3"
  }
 },
 "nbformat": 4,
 "nbformat_minor": 2
}
